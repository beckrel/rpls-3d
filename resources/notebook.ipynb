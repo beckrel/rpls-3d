{
  "cells": [
    {
      "cell_type": "code",
      "execution_count": null,
      "metadata": {
        "id": "Gq_R4_-T4IRX"
      },
      "outputs": [],
      "source": [
        "# Etape 0.\n",
        "# Importer et installer les dépendances\n",
        "!pip install h3\n",
        "!pip install geopandas\n",
        "\n",
        "import pandas as pd\n",
        "from h3 import h3\n",
        "import geopandas\n",
        "import json\n",
        "import os\n",
        "import io"
      ]
    },
    {
      "cell_type": "code",
      "execution_count": 9,
      "metadata": {
        "id": "Zt6sxdAn4D6h"
      },
      "outputs": [],
      "source": [
        "# ETAPE 1a.\n",
        "# Uploader manuellement le RPLS géolocalisé 2019 dans l'espace de travail Google Colab (colab.research.google.com)\n",
        "# Lien pour télécharger le RPLS : data.gouv.fr/fr/datasets/repertoire-des-logements-locatifs-des-bailleurs-sociaux/\n",
        "\n",
        "# ETAPE 1b.\n",
        "# Concaténer l'ensemble des CSV (un par région) dans un unique dataframe\n",
        "# et ne conserver que les colonnes utiles à la cartographie :\n",
        "# la surface, la latitude et la longitude\n",
        "\n",
        "files = os.listdir()\n",
        "\n",
        "list = []\n",
        "\n",
        "for file in files:\n",
        "  if file.endswith('.csv'):\n",
        "    list.append(pd.read_csv(\"/content/\" + file,\n",
        "                               sep=';',\n",
        "                               low_memory=False,\n",
        "                               usecols=['SURFHAB', 'latitude', 'longitude']))\n",
        "\n",
        "df = pd.concat(list)\n",
        "\n",
        "# Supprimer les données initiales pour préserver la RAM de l'espace de travail Google Colab\n",
        "del list"
      ]
    },
    {
      "cell_type": "code",
      "execution_count": null,
      "metadata": {
        "colab": {
          "base_uri": "https://localhost:8080/"
        },
        "id": "C9jhIMONRLJL",
        "outputId": "c06a9c99-c35e-4ee5-ceca-f6cbcbd84653"
      },
      "outputs": [],
      "source": [
        "# ETAPE 2.\n",
        "# Nettoyer les données\n",
        "\n",
        "# Imprimer le nombre de lignes dans le fichier, correspond au\n",
        "# nombre de logements sociaux en France d'après le RPLS utilisé\n",
        "print(\"Nombre de LLS (avant nettoyage) :\", len(df.index))\n",
        "\n",
        "# Renommer les colonnes\n",
        "df.rename(columns={\n",
        "    'SURFHAB': 'SURFACE',\n",
        "    'latitude': 'LATITUDE',\n",
        "    'longitude': 'LONGITUDE'\n",
        "    },\n",
        "    inplace=True)\n",
        "\n",
        "# Transformer les longitudes et latitudes en nombre\n",
        "df['LONGITUDE'] = df['LONGITUDE'].replace(regex=r',', value='.')\n",
        "df[\"LONGITUDE\"] = pd.to_numeric(df[\"LONGITUDE\"])\n",
        "df['LATITUDE'] = df['LATITUDE'].replace(regex=r',', value='.')\n",
        "df[\"LATITUDE\"] = pd.to_numeric(df[\"LATITUDE\"])\n",
        "\n",
        "# Supprimer les logements où des surfaces, latitudes ou longitudes sont manquantes\n",
        "df = df.dropna().reset_index()\n",
        "\n",
        "# Créer une colonne contenant systématiquement 1\n",
        "# Cette colonne permettra de sommer le nombre de logements plus bas\n",
        "df[\"LOGEMENT\"] = 1\n",
        "\n",
        "# Créer une colonne contenant un nombre aléatoire afin de pouvoir\n",
        "# disperser les logements sur un axe horizontal dans les graphiques\n",
        "import random \n",
        "df[\"RANDOM\"] = df.apply(lambda row: random.randint(0, 1000), axis = 1)\n",
        "\n",
        "print(\"Nombre de LLS (après nettoyage) :\", len(df.index))"
      ]
    },
    {
      "cell_type": "code",
      "execution_count": null,
      "metadata": {
        "colab": {
          "base_uri": "https://localhost:8080/",
          "height": 559
        },
        "id": "nYppzPUr5eAL",
        "outputId": "dc948e01-7b14-40c6-c323-f26e567a2cbd"
      },
      "outputs": [],
      "source": [
        "# ETAPE 3.\n",
        "# Ajuster la surface des logements dont la valeur interroge\n",
        "\n",
        "# Visualiser la dispersion des logements en fonction de leur surface\n",
        "df.plot.scatter(x=\"RANDOM\", y=\"SURFACE\", c=\"#00000010\")\n",
        "\n",
        "# Pour les logements dont la surface est supérieure à 150 m²\n",
        "# modifier leur surface en leur appliquant la surface médiane\n",
        "median = df['SURFACE'].median()\n",
        "df.loc[(df.SURFACE > 150), \"SURFACE\"]= median\n",
        "\n",
        "# Visualiser la nouvelle dispersion des logements en fonction de leur surface\n",
        "df.plot.scatter(x=\"RANDOM\", y=\"SURFACE\", c=\"#00000010\")"
      ]
    },
    {
      "cell_type": "code",
      "execution_count": null,
      "metadata": {
        "colab": {
          "base_uri": "https://localhost:8080/"
        },
        "id": "lEKHv3E3N3g6",
        "outputId": "7655fd96-a621-410d-b606-43da131a4e3f"
      },
      "outputs": [],
      "source": [
        "# ETAPE 4.\n",
        "# Créer une nouvelle colonne contenant l'identifiant de l'Hexbin H3 de chaque logement (= chaque ligne)\n",
        "# H3 est un sytème d'indexation géospatial développé par Uber : h3geo.org/docs/\n",
        "# La résolution H3 utilisée est 11 -> h3geo.org/docs/core-library/restable\n",
        "\n",
        "df[\"HEX_ID\"] = df.apply(lambda row: h3.geo_to_h3(row[\"LATITUDE\"], row[\"LONGITUDE\"], 11), axis = 1)\n",
        "\n",
        "# ETAPE 5.\n",
        "# Grouper les données par HEX_ID et sommer les surfaces et le nombre de logements\n",
        "df = df.groupby('HEX_ID', as_index=False).agg({\n",
        "    \"SURFACE\": \"sum\",\n",
        "    \"LOGEMENT\": \"sum\"})\n",
        "\n",
        "print(\"Nombre d'Hexbins :\", len(df.index))"
      ]
    },
    {
      "cell_type": "code",
      "execution_count": null,
      "metadata": {
        "colab": {
          "base_uri": "https://localhost:8080/",
          "height": 594
        },
        "id": "dBc_Zqmui66a",
        "outputId": "13a13099-e343-4219-d752-a111893ceb4b"
      },
      "outputs": [],
      "source": [
        "# ETAPE 6.\n",
        "# Retirer les Hexbins dont les valeurs interrogent\n",
        "\n",
        "# Visualiser la dispersion des Hexbins\n",
        "df.plot.scatter(x=\"SURFACE\", y=\"LOGEMENT\", c=\"#00000010\")\n",
        "\n",
        "print(\"Nombre de LLS total (avant retrait):\", df['LOGEMENT'].sum())\n",
        "\n",
        "# Supprimer les Hexbins dont la surface cumulée est supérieure à 30 000 m²\n",
        "df = df.drop(df[df.SURFACE > 30000].index)\n",
        "df.reset_index()\n",
        "\n",
        "print(\"Nombre de LLS total (après retrait):\", df['LOGEMENT'].sum())\n",
        "\n",
        "# Visualiser la nouvelle dispersion des Hexbins\n",
        "df.plot.scatter(x=\"SURFACE\", y=\"LOGEMENT\", c=\"#00000010\")"
      ]
    },
    {
      "cell_type": "code",
      "execution_count": 14,
      "metadata": {
        "id": "NAfLeTyD8tGf"
      },
      "outputs": [],
      "source": [
        "# ETAPE 7.\n",
        "# Ajouter une colonne qui contient :\n",
        "# - la géométrie de l'Hexbin au format Geojson\n",
        "# - la surface cumulée des logements sociaux contenus dans l'Hexbin\n",
        "# - le nombre de logements sociaux contenus dans l'Hexbin\n",
        "df[\"geometry\"] = df.apply(lambda row: {\n",
        "    \"type\": \"Feature\",\n",
        "    \"geometry\":{\n",
        "        \"type\": \"Polygon\",\n",
        "        \"coordinates\": [h3.h3_to_geo_boundary(row[\"HEX_ID\"],geo_json=True)]\n",
        "        },\n",
        "        \"properties\": {\"surface\": row[\"SURFACE\"], \"count\": row[\"LOGEMENT\"]}\n",
        "        }, \n",
        "        axis = 1)"
      ]
    },
    {
      "cell_type": "code",
      "execution_count": 15,
      "metadata": {
        "id": "eGmbIPL-_Ps0"
      },
      "outputs": [],
      "source": [
        "# ETAPE 8.\n",
        "# Finaliser la modélisation du fichier geojson de sortie\n",
        "\n",
        "features = []\n",
        "for i, row in df.iterrows():\n",
        "  features.append(row['geometry'])\n",
        "        \n",
        "data = {\n",
        "    \"type\": \"FeatureCollection\",\n",
        "    \"features\": features \n",
        "    }\n",
        "\n",
        "# Transformer le fichier en JSON valide       \n",
        "data  = json.dumps(data)"
      ]
    },
    {
      "cell_type": "code",
      "execution_count": null,
      "metadata": {
        "colab": {
          "base_uri": "https://localhost:8080/",
          "height": 17
        },
        "id": "nfUPl8n_twDU",
        "outputId": "75063ebb-fd3a-4522-f81f-d6dea9c088a4"
      },
      "outputs": [],
      "source": [
        "# ETAPE 9.\n",
        "# Sauvegarder, puis télécharger les données finales\n",
        "\n",
        "from google.colab import files\n",
        "\n",
        "with open('data.geojson', 'w') as f:\n",
        "  f.write(data)\n",
        "\n",
        "files.download('data.geojson')"
      ]
    }
  ],
  "metadata": {
    "colab": {
      "name": "Transformation du RPLS géolocalisé pour \"La France des logements sociaux 3D\".ipynb",
      "provenance": []
    },
    "kernelspec": {
      "display_name": "Python 3",
      "name": "python3"
    },
    "language_info": {
      "name": "python"
    }
  },
  "nbformat": 4,
  "nbformat_minor": 0
}
